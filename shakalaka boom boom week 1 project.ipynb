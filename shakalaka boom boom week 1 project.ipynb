{
 "cells": [
  {
   "cell_type": "code",
   "execution_count": 1,
   "id": "721cc136",
   "metadata": {},
   "outputs": [
    {
     "name": "stdout",
     "output_type": "stream",
     "text": [
      "the value of n is: 3.4\n"
     ]
    }
   ],
   "source": [
    "n = float(input(\"enter value of n:\"))\n",
    "print(\"the value of n is:\",n)\n"
   ]
  },
  {
   "cell_type": "code",
   "execution_count": null,
   "id": "bd856e25",
   "metadata": {},
   "outputs": [
    {
     "name": "stdout",
     "output_type": "stream",
     "text": [
      "n=3.4 is not an integer\n",
      "n=4.56 is not an integer\n",
      "n=5.0 is an integer\n",
      "n=5.0 is odd\n"
     ]
    }
   ],
   "source": [
    "while True:\n",
    "    n = float(input(\"Enter any value of n: \"))\n",
    "    if n == int(n):\n",
    "        print(f\"n={n} is an integer\")\n",
    "        break\n",
    "    else:\n",
    "        print(f\"n={n} is not an integer\")\n",
    "if n % 2 == 0:\n",
    "    print(f\"n={n} is even\")\n",
    "else:\n",
    "    print(f\"n={n} is odd\")"
   ]
  },
  {
   "cell_type": "code",
   "execution_count": null,
   "id": "75017fa2",
   "metadata": {},
   "outputs": [
    {
     "name": "stdout",
     "output_type": "stream",
     "text": [
      "Requirement already satisfied: numpy in c:\\users\\srivy\\appdata\\local\\packages\\pythonsoftwarefoundation.python.3.11_qbz5n2kfra8p0\\localcache\\local-packages\\python311\\site-packages (1.26.4)\n"
     ]
    }
   ],
   "source": [
    "!pip install numpy"
   ]
  },
  {
   "cell_type": "code",
   "execution_count": null,
   "id": "9243cc29",
   "metadata": {},
   "outputs": [
    {
     "name": "stdout",
     "output_type": "stream",
     "text": [
      "elements of array are: [3. 3. 5. 2.]\n"
     ]
    }
   ],
   "source": [
    "import numpy as np\n",
    "\n",
    "n = int(input(\"Enter size of the array:\"))\n",
    "              \n",
    "arr = np.zeros(n)\n",
    "for i in range(n):\n",
    "    arr[i] = float(input(\"Enter elements of array: \"))\n",
    "\n",
    "print(\"elements of array are:\", arr)\n"
   ]
  },
  {
   "cell_type": "code",
   "execution_count": null,
   "id": "b2cf6670",
   "metadata": {},
   "outputs": [
    {
     "name": "stdout",
     "output_type": "stream",
     "text": [
      "Original matrix: \n",
      "[[  90   69    0   -1   -3]\n",
      " [   4    2    3    7  406]\n",
      " [  11  -12   -3   43   33]\n",
      " [   7    7   -1 -100   -9]\n",
      " [ 100   62    2    1   11]]\n",
      "____________________________________________________________________________________________________ \n",
      "\n",
      "Adjusting Row 1.\n",
      "[[  90   69    0   -1   -3]\n",
      " [   4    2    3    7  406]\n",
      " [  11  -12   -3   43   33]\n",
      " [   7    7   -1 -100   -9]\n",
      " [ 100   62    2    1   11]]\n",
      "----------------------------------------------------------------------------------------------------\n",
      "Adjusting Row 2.\n",
      "Swapped elements 2 && 406 in row 2 to make it diagonally dominant.\n",
      "[[  90   69    0   -1   -3]\n",
      " [   4  406    3    7    2]\n",
      " [  11  -12   -3   43   33]\n",
      " [   7    7   -1 -100   -9]\n",
      " [ 100   62    2    1   11]]\n",
      "----------------------------------------------------------------------------------------------------\n",
      "Adjusting Row 3.\n",
      "Swapped elements -3 && 43 in row 3 to make it diagonally dominant.\n",
      "[[  90   69    0   -1   -3]\n",
      " [   4  406    3    7    2]\n",
      " [  11  -12   43   -3   33]\n",
      " [   7    7   -1 -100   -9]\n",
      " [ 100   62    2    1   11]]\n",
      "----------------------------------------------------------------------------------------------------\n",
      "Adjusting Row 4.\n",
      "[[  90   69    0   -1   -3]\n",
      " [   4  406    3    7    2]\n",
      " [  11  -12   43   -3   33]\n",
      " [   7    7   -1 -100   -9]\n",
      " [ 100   62    2    1   11]]\n",
      "----------------------------------------------------------------------------------------------------\n",
      "Adjusting Row 5.\n",
      "Swapped elements 11 && 100 in row 5 to make it diagonally dominant.\n",
      "[[  90   69    0   -1   -3]\n",
      " [   4  406    3    7    2]\n",
      " [  11  -12   43   -3   33]\n",
      " [   7    7   -1 -100   -9]\n",
      " [  11   62    2    1  100]]\n",
      "----------------------------------------------------------------------------------------------------\n",
      "The matrix is now diagonally dominant.\n",
      "____________________________________________________________________________________________________ \n",
      "\n",
      "Matrix obtained is: \n",
      "[[  90   69    0   -1   -3]\n",
      " [   4  406    3    7    2]\n",
      " [  11  -12   43   -3   33]\n",
      " [   7    7   -1 -100   -9]\n",
      " [  11   62    2    1  100]]\n"
     ]
    }
   ],
   "source": [
    "import numpy as np\n",
    "\n",
    "def diagonallyDominant(arr, verbose=False):\n",
    "    n = arr.shape[0]\n",
    "    \n",
    "    for i in range(n):\n",
    "        if verbose:\n",
    "            print(\"Adjusting Row {}.\".format(i + 1))\n",
    "        \n",
    "        max_value = np.max(np.abs(arr[i, np.arange(n) != i]))\n",
    "        \n",
    "        if np.abs(arr[i, i]) < max_value:\n",
    "            max_index = np.argmax(np.abs(arr[i, :]))\n",
    "            if verbose:\n",
    "                print(\"Swapped elements {} && {} in row {} to make it diagonally dominant.\".format(arr[i, i], arr[i, max_index], i + 1))\n",
    "            arr[i, i], arr[i, max_index] = arr[i, max_index], arr[i, i]\n",
    "        \n",
    "        if verbose:\n",
    "            print(arr)\n",
    "            print(\"-\" * 100)\n",
    "    \n",
    "    if verbose:\n",
    "        print(\"The matrix is now diagonally dominant.\")\n",
    "\n",
    "    return arr\n",
    "\n",
    "arr = np.array([[90, 69, 0, -1, -3],\n",
    "                [4, 2, 3, 7, 406],\n",
    "                [11, -12, -3, 43, 33],\n",
    "                [7, 7, -1, -100, -9],\n",
    "                [100, 62, 2, 1, 11]])\n",
    "\n",
    "print(\"Original matrix: \")\n",
    "print(arr)\n",
    "print(\"_\" * 100, \"\\n\")\n",
    "\n",
    "A = diagonallyDominant(arr, verbose=True)\n",
    "print(\"_\" * 100, \"\\n\")\n",
    "\n",
    "print(\"Matrix obtained is: \")\n",
    "print(A)"
   ]
  },
  {
   "cell_type": "code",
   "execution_count": null,
   "id": "6160c4ab",
   "metadata": {},
   "outputs": [
    {
     "name": "stdout",
     "output_type": "stream",
     "text": [
      "The matrix couldn't be made diagonally dominant.\n",
      "Problematic rows: [2]\n",
      "Row 2 : [ 11 -12  43  -3  33]\n"
     ]
    }
   ],
   "source": [
    "import numpy as np\n",
    "\n",
    "def make_diagonally_dominant(matrix):\n",
    "    rows = matrix.shape[0]\n",
    "    \n",
    "    for i in range(rows):\n",
    "        max_non_diagonal = np.max(np.abs(matrix[i, np.arange(rows) != i]))\n",
    "\n",
    "        if np.abs(matrix[i, i]) < max_non_diagonal:\n",
    "            max_index = np.argmax(np.abs(matrix[i, :]))\n",
    "            matrix[i, i], matrix[i, max_index] = matrix[i, max_index], matrix[i, i]\n",
    "    \n",
    "    return matrix\n",
    "\n",
    "matrix = np.array([[90, 69, 0, -1, -3],\n",
    "                   [4, 406, 3, 7, 2],\n",
    "                   [11, -12, 43, -3, 33],\n",
    "                   [7, 7, -1, -100, -9],\n",
    "                   [11, 62, 2, 1, 100]])\n",
    "\n",
    "adjusted_matrix = make_diagonally_dominant(matrix)\n",
    "\n",
    "rows = adjusted_matrix.shape[0]\n",
    "is_diagonally_dominant = True\n",
    "problematic_rows = []\n",
    "\n",
    "for i in range(rows):\n",
    "    row_sum = np.sum(np.abs(adjusted_matrix[i, :])) - np.abs(adjusted_matrix[i, i])\n",
    "    \n",
    "    if np.abs(adjusted_matrix[i, i]) < row_sum:\n",
    "        is_diagonally_dominant = False\n",
    "        problematic_rows.append(i)\n",
    "\n",
    "if is_diagonally_dominant:\n",
    "    print(\"The matrix is now diagonally dominant!\")\n",
    "else:\n",
    "    print(\"The matrix couldn't be made diagonally dominant.\")\n",
    "    print(\"Problematic rows:\", problematic_rows)\n",
    "    for row_index in problematic_rows:\n",
    "        print(\"Row\", row_index, \":\", adjusted_matrix[row_index, :])\n"
   ]
  },
  {
   "cell_type": "code",
   "execution_count": null,
   "id": "a71d97e7",
   "metadata": {},
   "outputs": [
    {
     "name": "stdout",
     "output_type": "stream",
     "text": [
      "Requirement already satisfied: matplotlib in c:\\users\\srivy\\appdata\\local\\packages\\pythonsoftwarefoundation.python.3.11_qbz5n2kfra8p0\\localcache\\local-packages\\python311\\site-packages (3.9.0)\n",
      "Requirement already satisfied: contourpy>=1.0.1 in c:\\users\\srivy\\appdata\\local\\packages\\pythonsoftwarefoundation.python.3.11_qbz5n2kfra8p0\\localcache\\local-packages\\python311\\site-packages (from matplotlib) (1.2.1)\n",
      "Requirement already satisfied: cycler>=0.10 in c:\\users\\srivy\\appdata\\local\\packages\\pythonsoftwarefoundation.python.3.11_qbz5n2kfra8p0\\localcache\\local-packages\\python311\\site-packages (from matplotlib) (0.12.1)\n",
      "Requirement already satisfied: fonttools>=4.22.0 in c:\\users\\srivy\\appdata\\local\\packages\\pythonsoftwarefoundation.python.3.11_qbz5n2kfra8p0\\localcache\\local-packages\\python311\\site-packages (from matplotlib) (4.53.0)\n",
      "Requirement already satisfied: kiwisolver>=1.3.1 in c:\\users\\srivy\\appdata\\local\\packages\\pythonsoftwarefoundation.python.3.11_qbz5n2kfra8p0\\localcache\\local-packages\\python311\\site-packages (from matplotlib) (1.4.5)\n",
      "Requirement already satisfied: numpy>=1.23 in c:\\users\\srivy\\appdata\\local\\packages\\pythonsoftwarefoundation.python.3.11_qbz5n2kfra8p0\\localcache\\local-packages\\python311\\site-packages (from matplotlib) (1.26.4)\n",
      "Requirement already satisfied: packaging>=20.0 in c:\\users\\srivy\\appdata\\local\\packages\\pythonsoftwarefoundation.python.3.11_qbz5n2kfra8p0\\localcache\\local-packages\\python311\\site-packages (from matplotlib) (24.0)\n",
      "Requirement already satisfied: pillow>=8 in c:\\users\\srivy\\appdata\\local\\packages\\pythonsoftwarefoundation.python.3.11_qbz5n2kfra8p0\\localcache\\local-packages\\python311\\site-packages (from matplotlib) (10.3.0)\n",
      "Requirement already satisfied: pyparsing>=2.3.1 in c:\\users\\srivy\\appdata\\local\\packages\\pythonsoftwarefoundation.python.3.11_qbz5n2kfra8p0\\localcache\\local-packages\\python311\\site-packages (from matplotlib) (3.1.2)\n",
      "Requirement already satisfied: python-dateutil>=2.7 in c:\\users\\srivy\\appdata\\local\\packages\\pythonsoftwarefoundation.python.3.11_qbz5n2kfra8p0\\localcache\\local-packages\\python311\\site-packages (from matplotlib) (2.9.0.post0)\n",
      "Requirement already satisfied: six>=1.5 in c:\\users\\srivy\\appdata\\local\\packages\\pythonsoftwarefoundation.python.3.11_qbz5n2kfra8p0\\localcache\\local-packages\\python311\\site-packages (from python-dateutil>=2.7->matplotlib) (1.16.0)\n"
     ]
    }
   ],
   "source": [
    "!pip install matplotlib\n"
   ]
  },
  {
   "cell_type": "code",
   "execution_count": null,
   "id": "6191ccee",
   "metadata": {},
   "outputs": [
    {
     "data": {
      "image/png": "[encoded data removed]",
      "text/plain": [
       "<Figure size 1000x600 with 2 Axes>"
      ]
     },
     "metadata": {},
     "output_type": "display_data"
    }
   ],
   "source": [
    "import numpy as np\n",
    "import matplotlib.pyplot as plt\n",
    "\n",
    "def relu(x):\n",
    "    return np.maximum(0, x)\n",
    "\n",
    "def sigmoid(x):\n",
    "    return 1 / (1 + np.exp(-x))\n",
    "\n",
    "def tanh(x):\n",
    "    return np.tanh(x)\n",
    "\n",
    "\n",
    "x = np.linspace(-100, 100, 10000)\n",
    "y_relu = []\n",
    "y_sigmoid = []\n",
    "y_tanh = []\n",
    "for i in range(len(x)):\n",
    "    y_relu.append(relu(x[i]))\n",
    "    y_sigmoid.append(sigmoid(x[i]))\n",
    "    y_tanh.append(tanh(x[i]))\n",
    "\n",
    "plt.figure(figsize=(10, 6))\n",
    "plt.subplot(2, 1, 1)\n",
    "plt.plot(x, y_relu, label='ReLU', color='c')\n",
    "\n",
    "plt.subplot(2, 1, 2)\n",
    "plt.plot(x, y_sigmoid, label='Sigmoid', color='b')\n",
    "plt.plot(x, y_tanh, label='Tanh', color='r')\n",
    "\n",
    "plt.tight_layout()\n",
    "plt.show()\n"
   ]
  },
  {
   "cell_type": "code",
   "execution_count": null,
   "id": "84016358",
   "metadata": {},
   "outputs": [
    {
     "data": {
      "text/plain": [
       "<function matplotlib.pyplot.show(close=None, block=None)>"
      ]
     },
     "execution_count": 13,
     "metadata": {},
     "output_type": "execute_result"
    },
    {
     "data": {
      "image/png": "[encoded data removed]",
      "text/plain": [
       "<Figure size 640x480 with 1 Axes>"
      ]
     },
     "metadata": {},
     "output_type": "display_data"
    }
   ],
   "source": [
    "import numpy as np\n",
    "import matplotlib.pyplot as plt\n",
    "arr = np.array([[90,69,0,-1,-3],[4,406,3,7,2],[11,-12,43,-3,33],[7,7,-1,-100,-9],[11,62,2,1,100]])\n",
    "x=[]\n",
    "y_relu = []\n",
    "y_sigmoid = []\n",
    "y_tanh = []\n",
    "n = arr.shape[0]\n",
    "for i in range(n) :\n",
    "    x.append(arr[i,i])\n",
    "for i in range(len(x)):\n",
    "    y_relu.append(max(0,x[i]))\n",
    "    y_sigmoid.append(1/(1+np.exp(-x[i])))    \n",
    "    y_tanh.append(np.tanh(x[i]))\n",
    "plt.scatter(x,y_relu,marker='o')\n",
    "plt.scatter(x,y_sigmoid,marker = '*')\n",
    "plt.scatter(x,y_tanh,marker = '+')\n",
    "plt.show"
   ]
  },
  {
   "cell_type": "code",
   "execution_count": null,
   "id": "da3f07e1",
   "metadata": {},
   "outputs": [
    {
     "name": "stdout",
     "output_type": "stream",
     "text": [
      "Softmax of the diagonal elements of the matrix :\n",
      " [5.79353612e-138 1.00000000e+000 2.24441452e-158 1.76600593e-220\n",
      " 1.27611125e-133]\n"
     ]
    }
   ],
   "source": [
    "import numpy as np\n",
    "\n",
    "def softmax(arr):\n",
    "    n = arr.shape[0]\n",
    "    dd = np.zeros(n)\n",
    "    \n",
    "    for i in range(n):\n",
    "        dd[i] = np.exp(arr[i,i]) / np.sum(np.exp(np.diag(arr)))\n",
    "    \n",
    "    return dd\n",
    "\n",
    "arr = np.array([[90,69,0,-1,-3],[4,406,3,7,2],[11,-12,43,-3,33],[7,7,-1,-100,-9],[11,62,2,1,100]])\n",
    "print(\"Softmax of the diagonal elements of the matrix :\\n\", softmax(arr))"
   ]
  },
  {
   "cell_type": "code",
   "execution_count": null,
   "id": "50ae8b68",
   "metadata": {},
   "outputs": [
    {
     "data": {
      "image/png": "[encoded data removed]",
      "text/plain": [
       "<Figure size 640x480 with 1 Axes>"
      ]
     },
     "metadata": {},
     "output_type": "display_data"
    }
   ],
   "source": [
    "import numpy as np\n",
    "import matplotlib.pyplot as plt\n",
    "\n",
    "def softmax(arr):\n",
    "    n = arr.shape[0]\n",
    "    dd = np.zeros(n)\n",
    "    \n",
    "    for i in range(n):\n",
    "        dd[i] = np.exp(arr[i,i]) / np.sum(np.exp(np.diag(arr)))\n",
    "    \n",
    "    return dd\n",
    "\n",
    "arr = np.array([[90,69,0,-1,-3],\n",
    "                [4,406,3,7,2],\n",
    "                [11,-12,43,-3,33],\n",
    "                [7,7,-1,-100,-9],\n",
    "                [11,62,2,1,100]])\n",
    "\n",
    "d = np.diag(arr)\n",
    "s= softmax(arr)\n",
    "\n",
    "plt.scatter(s,d, marker='o')\n",
    "plt.show()\n"
   ]
  },
  {
   "cell_type": "code",
   "execution_count": null,
   "id": "434cf023",
   "metadata": {},
   "outputs": [
    {
     "name": "stdout",
     "output_type": "stream",
     "text": [
      "90 : Not a max element in all diagonal elements\n",
      "406 : Max element in all diagonal elements\n",
      "43 : Not a max element in all diagonal elements\n",
      "-100 : Not a max element in all diagonal elements\n",
      "100 : Not a max element in all diagonal elements\n"
     ]
    }
   ],
   "source": [
    "import numpy as np\n",
    "\n",
    "def softmax(arr):\n",
    "    n = arr.shape[0]\n",
    "    dd = np.zeros(n)\n",
    "    \n",
    "    for i in range(n):\n",
    "        dd[i] = np.exp(arr[i,i]) / np.sum(np.exp(np.diag(arr)))\n",
    "    \n",
    "    return dd\n",
    "\n",
    "arr = np.array([[90,69,0,-1,-3],\n",
    "                [4,406,3,7,2],\n",
    "                [11,-12,43,-3,33],\n",
    "                [7,7,-1,-100,-9],\n",
    "                [11,62,2,1,100]])\n",
    "\n",
    "diagonalelements = np.diag(arr)\n",
    "softmax_diagonal = softmax(arr)\n",
    "\n",
    "maxindex = np.argmax(diagonalelements)\n",
    "max_softmax_index = np.argmax(softmax_diagonal)\n",
    "\n",
    "maxelement = diagonalelements[maxindex]\n",
    "\n",
    "for i in range(len(diagonalelements)):\n",
    "    if i == maxindex:\n",
    "        print(f\"{max_element} : Max element in all diagonal elements\")\n",
    "    else:\n",
    "        print(f\"{diagonalelements[i]} : Not a max element in all diagonal elements\")\n"
   ]
  },
  {
   "cell_type": "markdown",
   "id": "7542b2b0",
   "metadata": {},
   "source": [
    "The softmax function is  used to convert given elements into a probability distribution. This is done by exponentiating the score and normalizing the resulting vector by dividing each exponentiated score by the sum of all exponentiated scores. This makes the final probabilities sum to 1 . It helps us to select the most probable element from a pack of elements"
   ]
  },
  {
   "cell_type": "markdown",
   "id": "f113e692",
   "metadata": {},
   "source": [
    "Assignment1-part(2):\n",
    "\n",
    "\n",
    "\n",
    "Supervised Learning :\n",
    " Supervised learning is training a model on labeled dataset where each example has a corresponding target. By these examples, the model learns how to map inputs to outputs.which is a guided learning in a simpler method with more accuracy. Supervised learning is extensively used in tasks like classification (e.g. spam detection, image recognition), regression (e.g. predicting house prices, stock prices), and object detection.\n",
    "\n",
    "Unsupervised Learning :\n",
    " Unsupervised learning involves models that are trained on unlabelled data; it allows the model to find patterns or structures in the data without clear instructions which is an unguided learning in a complex method with less accuracy.It is used for clustering (grouping similar data points together), dimensionality reduction (e.g., principal component analysis) and anomaly detection.\n",
    "\n",
    "Reinforcement Learning :\n",
    " Reinforcement learning involves an agent that interacts with an environment and then learns to take actions that maximize cumulative rewards; There is no data in this.this feedback comes in terms of rewards or penalties through trial and error.It is applicable in game playing such as AlphaGo, robotic control, autonomous driving and recommendation systems.\n",
    "\n",
    " Machine Learning:\n",
    "Instead of programming them explicitly, machine learning is an overall concept that includes different techniques and algorithms for enabling computers to learn from data and make predictions or take decisions. Machine learning techniques are used in a wide variety of applications including finance (fraud detection), healthcare (disease diagnosis), marketing (customer segmentation) .\n",
    "\n",
    "Deep Learning:\n",
    " Deep learning is part of machine learning that concentrates on the use of algorithms which are inspired from the structure as well as the function of neural networks in the brain. A deep learning model is composed of numerous layers with interconnected nodes/neurons that can automatically learn representations from data. Some examples include image recognition like convolutional neural networks, natural language processing such as recurrent neural networks, transformers; speech recognition.\n"
   ]
  },
  {
   "cell_type": "code",
   "execution_count": null,
   "id": "eb238fd5",
   "metadata": {},
   "outputs": [
    {
     "name": "stdout",
     "output_type": "stream",
     "text": [
      "1223221 is a palindrome\n"
     ]
    }
   ],
   "source": [
    "def is_palindrome(num):\n",
    "    num_str = str(num)\n",
    "    \n",
    "    reversed_str = num_str[::-1]\n",
    "    \n",
    "    return num_str == reversed_str\n",
    "\n",
    "number = int(input(\"enter the number:\"))\n",
    "\n",
    "if is_palindrome(number):\n",
    "    print(f\"{number} is a palindrome\")\n",
    "else:\n",
    "    print(f\"{number} is not a palindrome\")"
   ]
  },
  {
   "cell_type": "code",
   "execution_count": null,
   "id": "1b1e8f9d",
   "metadata": {},
   "outputs": [
    {
     "name": "stdout",
     "output_type": "stream",
     "text": [
      "Random Array :  [85 58  3 37 35 72 10 89 23 86]\n",
      "Mean: 49.8\n",
      "Minimum: 3\n",
      "Maximum: 89\n"
     ]
    }
   ],
   "source": [
    "import numpy as np\n",
    "arr = np.random.randint(1, 101, 10)\n",
    "\n",
    "meanvalue = np.mean(arr)\n",
    "minvalue = np.min(arr)\n",
    "maxvalue = np.max(arr)\n",
    "\n",
    "print(\"Random Array : \",arr)\n",
    "print(\"Mean:\", meanvalue)\n",
    "print(\"Minimum:\", minvalue)\n",
    "print(\"Maximum:\", maxvalue)"
   ]
  },
  {
   "cell_type": "code",
   "execution_count": null,
   "id": "798b624a",
   "metadata": {},
   "outputs": [
    {
     "name": "stdout",
     "output_type": "stream",
     "text": [
      "Requirement already satisfied: pandas in c:\\users\\srivy\\appdata\\local\\packages\\pythonsoftwarefoundation.python.3.11_qbz5n2kfra8p0\\localcache\\local-packages\\python311\\site-packages (2.2.2)\n",
      "Requirement already satisfied: numpy>=1.23.2 in c:\\users\\srivy\\appdata\\local\\packages\\pythonsoftwarefoundation.python.3.11_qbz5n2kfra8p0\\localcache\\local-packages\\python311\\site-packages (from pandas) (1.26.4)\n",
      "Requirement already satisfied: python-dateutil>=2.8.2 in c:\\users\\srivy\\appdata\\local\\packages\\pythonsoftwarefoundation.python.3.11_qbz5n2kfra8p0\\localcache\\local-packages\\python311\\site-packages (from pandas) (2.9.0.post0)\n",
      "Requirement already satisfied: pytz>=2020.1 in c:\\users\\srivy\\appdata\\local\\packages\\pythonsoftwarefoundation.python.3.11_qbz5n2kfra8p0\\localcache\\local-packages\\python311\\site-packages (from pandas) (2024.1)\n",
      "Requirement already satisfied: tzdata>=2022.7 in c:\\users\\srivy\\appdata\\local\\packages\\pythonsoftwarefoundation.python.3.11_qbz5n2kfra8p0\\localcache\\local-packages\\python311\\site-packages (from pandas) (2024.1)\n",
      "Requirement already satisfied: six>=1.5 in c:\\users\\srivy\\appdata\\local\\packages\\pythonsoftwarefoundation.python.3.11_qbz5n2kfra8p0\\localcache\\local-packages\\python311\\site-packages (from python-dateutil>=2.8.2->pandas) (1.16.0)\n"
     ]
    }
   ],
   "source": [
    "!pip install pandas\n"
   ]
  },
  {
   "cell_type": "code",
   "execution_count": null,
   "id": "7d23a0a3",
   "metadata": {},
   "outputs": [
    {
     "name": "stdout",
     "output_type": "stream",
     "text": [
      "Original DataFrame:\n",
      "    Name  Age         City\n",
      "0   John   25     New York\n",
      "1  Alice   35  Los Angeles\n",
      "2    Bob   45      Chicago\n",
      "3   Emma   30     New York\n",
      "\n",
      "Filtered DataFrame :\n",
      "    Name  Age         City\n",
      "1  Alice   35  Los Angeles\n",
      "2    Bob   45      Chicago\n",
      "\n",
      " DataFrame with Salary column:\n",
      "    Name  Age         City  Salary\n",
      "0   John   25     New York   50000\n",
      "1  Alice   35  Los Angeles   60000\n",
      "2    Bob   45      Chicago   70000\n",
      "3   Emma   30     New York   55000\n",
      "\n",
      "Average Age for each City:\n",
      "City\n",
      "Chicago        45.0\n",
      "Los Angeles    35.0\n",
      "New York       27.5\n",
      "Name: Age, dtype: float64\n"
     ]
    },
    {
     "data": {
      "image/png": "[encoded data removed]",
      "text/plain": [
       "<Figure size 640x480 with 1 Axes>"
      ]
     },
     "metadata": {},
     "output_type": "display_data"
    }
   ],
   "source": [
    "import pandas as pd\n",
    "import matplotlib.pyplot as plt\n",
    "\n",
    "data = {'Name': ['John', 'Alice', 'Bob', 'Emma'],\n",
    "        'Age': [25, 35, 45, 30],\n",
    "        'City': ['New York', 'Los Angeles', 'Chicago', 'New York']}\n",
    "df = pd.DataFrame(data)\n",
    "\n",
    "print(\"Original DataFrame:\")\n",
    "print(df)\n",
    "\n",
    "filtereddf = df[df['Age'] > 30]\n",
    "print(\"\\nFiltered DataFrame :\")\n",
    "print(filtereddf)\n",
    "\n",
    "df['Salary'] = [50000, 60000, 70000, 55000]\n",
    "print(\"\\n DataFrame with Salary column:\")\n",
    "print(df)\n",
    "\n",
    "averageage = df.groupby('City')['Age'].mean()\n",
    "print(\"\\nAverage Age for each City:\")\n",
    "print(averageage)\n",
    "\n",
    "averageage.plot(kind='bar', color='skyblue')\n",
    "plt.xlabel('City')\n",
    "plt.ylabel('Average Age')\n",
    "plt.show()\n"
   ]
  }
 ],
 "metadata": {
  "kernelspec": {
   "display_name": "Python 3 (ipykernel)",
   "language": "python",
   "name": "python3"
  },
  "language_info": {
   "codemirror_mode": {
    "name": "ipython",
    "version": 3
   },
   "file_extension": ".py",
   "mimetype": "text/x-python",
   "name": "python",
   "nbconvert_exporter": "python",
   "pygments_lexer": "ipython3",
   "version": "3.11.9"
  }
 },
 "nbformat": 4,
 "nbformat_minor": 5
}
